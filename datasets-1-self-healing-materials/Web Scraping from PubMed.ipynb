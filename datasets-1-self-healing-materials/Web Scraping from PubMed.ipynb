{
 "cells": [
  {
   "cell_type": "code",
   "execution_count": 5,
   "id": "116fad06-20bd-4bfd-b41f-413456dd168f",
   "metadata": {
    "tags": []
   },
   "outputs": [],
   "source": [
    "import requests\n",
    "from bs4 import BeautifulSoup\n",
    "import time\n",
    "import pandas as pd"
   ]
  },
  {
   "cell_type": "code",
   "execution_count": 6,
   "id": "6de5ab1e-6e73-4de5-9d18-a706df081b1b",
   "metadata": {
    "tags": []
   },
   "outputs": [],
   "source": [
    "# Initialize an empty list to store paper details\n",
    "papers = []"
   ]
  },
  {
   "cell_type": "raw",
   "id": "2230b716-dc9a-4ca8-b117-8cc26eee5437",
   "metadata": {
    "tags": []
   },
   "source": [
    "# Loop through 70 pages (1 to 71)\n",
    "for i in range(1, 71):\n",
    "    url = f\"https://pubmed.ncbi.nlm.nih.gov/?term=Self-healing+materials+in+construction&page={i}\"\n",
    "    \n",
    "    # Fetch the page\n",
    "    response = requests.get(url)\n",
    "    soup = BeautifulSoup(response.content, 'html.parser')\n",
    "    \n",
    "    # Find the container that holds the articles\n",
    "    article_container = soup.find_all('div', {'class': 'docsum-content'})\n",
    "   \n",
    "    # Loop through each article and extract information    \n",
    "    for article in article_container:\n",
    "        title = article.find('a', {'class': 'docsum-title'}).text.strip() if article.find('a', {'class': 'docsum-title'}) else 'N/A'\n",
    "        author_info = article.find('span', {'class': 'docsum-authors full-authors'}).text.strip() if article.find('span', {'class': 'docsum-authors full-authors'}) else 'N/A'\n",
    "        abstract = article.find('div', {'class': 'full-view-snippet'}).text.strip() if article.find('div', {'class': 'full-view-snippet'}) else 'N/A'\n",
    "        \n",
    "        papers.append({\n",
    "            'Title': title,\n",
    "            'Author Info': author_info,\n",
    "            'Abstract': abstract\n",
    "        })\n",
    "        \n",
    "    # Sleep for 5 seconds to respect PubMed's terms\n",
    "    time.sleep(5)\n",
    "    \n",
    "# Convert the list of dictionaries to a DataFrame\n",
    "df = pd.DataFrame(papers)\n",
    "\n",
    "# Save the DataFrame to a CSV file\n",
    "df.to_csv('shmin_pubmed.csv', index=False)"
   ]
  },
  {
   "cell_type": "code",
   "execution_count": 1,
   "id": "5054227a-8361-4ea8-8778-3f4f1db877ed",
   "metadata": {
    "tags": []
   },
   "outputs": [
    {
     "name": "stdout",
     "output_type": "stream",
     "text": [
      "Collecting biopython\n",
      "  Downloading biopython-1.81-cp311-cp311-win_amd64.whl (2.7 MB)\n",
      "     ---------------------------------------- 0.0/2.7 MB ? eta -:--:--\n",
      "     ---------------------------------------- 0.0/2.7 MB 682.7 kB/s eta 0:00:04\n",
      "      --------------------------------------- 0.1/2.7 MB 656.4 kB/s eta 0:00:05\n",
      "     --------- ------------------------------ 0.6/2.7 MB 4.8 MB/s eta 0:00:01\n",
      "     ---------------------------- ----------- 2.0/2.7 MB 10.5 MB/s eta 0:00:01\n",
      "     ---------------------------------------- 2.7/2.7 MB 12.4 MB/s eta 0:00:00\n",
      "Requirement already satisfied: numpy in c:\\users\\shamu\\anaconda3\\lib\\site-packages (from biopython) (1.24.3)\n",
      "Installing collected packages: biopython\n",
      "Successfully installed biopython-1.81\n",
      "Note: you may need to restart the kernel to use updated packages.\n"
     ]
    }
   ],
   "source": [
    "pip install biopython"
   ]
  },
  {
   "cell_type": "code",
   "execution_count": 3,
   "id": "7c7f6ab2-75d7-4708-b7ec-f7a7d1f274ea",
   "metadata": {},
   "outputs": [],
   "source": [
    "from Bio import Entrez\n",
    "import pandas as pd\n",
    "import numpy as np"
   ]
  },
  {
   "cell_type": "code",
   "execution_count": 4,
   "id": "1660a52b-a0cf-4621-8099-c35ae452cec1",
   "metadata": {},
   "outputs": [],
   "source": [
    "def search(query):\n",
    "    Entrez.email = 'shamustappa@gmail.com'\n",
    "    handle = Entrez.esearch(db='pubmed',\n",
    "    sort='relevance',\n",
    "    retmax='250000',\n",
    "    retmode='xml',\n",
    "    term=query)\n",
    "    results = Entrez.read(handle)\n",
    "    return results"
   ]
  },
  {
   "cell_type": "code",
   "execution_count": 5,
   "id": "8d075a27-523e-46e2-80da-1da86014876e",
   "metadata": {
    "tags": []
   },
   "outputs": [],
   "source": [
    "studies = search('Self-healing material in construction')\n",
    "studiesIdList = studies['IdList']"
   ]
  },
  {
   "cell_type": "code",
   "execution_count": 6,
   "id": "7bce3491-8ee0-477b-9545-3367d41031ec",
   "metadata": {
    "tags": []
   },
   "outputs": [],
   "source": [
    "def fetch_details(id_list):\n",
    "    ids = ','.join(id_list)\n",
    "    Entrez.email = 'shamustappa@gmail.com'\n",
    "    handle = Entrez.efetch(db='pubmed',\n",
    "    retmode='xml',\n",
    "    id=ids)\n",
    "    results = Entrez.read(handle)\n",
    "    return results"
   ]
  },
  {
   "cell_type": "code",
   "execution_count": 11,
   "id": "30c13694-fc54-4ae2-b641-22ef7e95bdd9",
   "metadata": {
    "tags": []
   },
   "outputs": [],
   "source": [
    "# Initialize lists to store paper details\n",
    "title_list = []\n",
    "abstract_list = []\n",
    "journal_list = []\n",
    "language_list = []\n",
    "pubdate_year_list = []\n",
    "pubdate_month_list = []\n",
    "\n",
    "# Assume fetch_details is a function that takes a list of study IDs and returns detailed data\n",
    "# studies = fetch_details(studiesIdList)\n",
    "\n",
    "chunk_size = 10000  # Define the chunk size\n",
    "\n",
    "# Loop through the list of study IDs in chunks\n",
    "for chunk_i in range(0, len(studiesIdList), chunk_size):\n",
    "    chunk = studiesIdList[chunk_i:chunk_i + chunk_size]\n",
    "    papers = fetch_details(chunk)\n",
    "    \n",
    "    for i, paper in enumerate(papers['PubmedArticle']):\n",
    "        \n",
    "        # Extract title\n",
    "        title_list.append(paper['MedlineCitation']['Article']['ArticleTitle'])\n",
    "        \n",
    "        # Extract abstract, if available\n",
    "        try:\n",
    "            abstract_list.append(paper['MedlineCitation']['Article']['Abstract']['AbstractText'][0])\n",
    "        except:\n",
    "            abstract_list.append('No Abstract')\n",
    "        \n",
    "        # Extract journal name\n",
    "        journal_list.append(paper['MedlineCitation']['Article']['Journal']['Title'])\n",
    "        \n",
    "        # Extract language\n",
    "        language_list.append(paper['MedlineCitation']['Article']['Language'][0])\n",
    "        \n",
    "        # Extract publication year, if available\n",
    "        try:\n",
    "            pubdate_year_list.append(paper['MedlineCitation']['Article']['Journal']['JournalIssue']['PubDate']['Year'])\n",
    "        except:\n",
    "            pubdate_year_list.append('No Data')\n",
    "        \n",
    "        # Extract publication month, if available\n",
    "        try:\n",
    "            pubdate_month_list.append(paper['MedlineCitation']['Article']['Journal']['JournalIssue']['PubDate']['Month'])\n",
    "        except:\n",
    "            pubdate_month_list.append('No Data')\n",
    "\n",
    "# Create a Pandas DataFrame to store all the information\n",
    "df = pd.DataFrame(list(zip(\n",
    "    title_list, abstract_list, journal_list, language_list, pubdate_year_list, pubdate_month_list\n",
    ")),\n",
    "columns=[\n",
    "    'Title', 'Abstract', 'Journal', 'Language', 'Year', 'Month'\n",
    "])\n",
    "\n",
    "# Save the DataFrame to a CSV file\n",
    "df.to_csv('shmin_pubmed.csv', index=False)"
   ]
  },
  {
   "cell_type": "code",
   "execution_count": null,
   "id": "1ffd9fd2-325a-4ed3-90ad-d81d85384efc",
   "metadata": {},
   "outputs": [],
   "source": []
  }
 ],
 "metadata": {
  "kernelspec": {
   "display_name": "Python 3 (ipykernel)",
   "language": "python",
   "name": "python3"
  },
  "language_info": {
   "codemirror_mode": {
    "name": "ipython",
    "version": 3
   },
   "file_extension": ".py",
   "mimetype": "text/x-python",
   "name": "python",
   "nbconvert_exporter": "python",
   "pygments_lexer": "ipython3",
   "version": "3.11.5"
  }
 },
 "nbformat": 4,
 "nbformat_minor": 5
}
