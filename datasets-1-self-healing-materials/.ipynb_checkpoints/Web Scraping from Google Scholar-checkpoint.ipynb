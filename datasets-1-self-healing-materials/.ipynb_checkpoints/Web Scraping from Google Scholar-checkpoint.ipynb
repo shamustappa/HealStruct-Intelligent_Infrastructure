{
 "cells": [
  {
   "cell_type": "code",
   "execution_count": 2,
   "id": "9de61af2-5627-4fcd-bac1-52679e58d85b",
   "metadata": {},
   "outputs": [],
   "source": [
    "import requests\n",
    "from bs4 import BeautifulSoup\n",
    "import pandas as pd"
   ]
  },
  {
   "cell_type": "code",
   "execution_count": 3,
   "id": "692a6df7-41cc-47aa-8b26-b4f62a2e7ab7",
   "metadata": {
    "tags": []
   },
   "outputs": [],
   "source": [
    "books = []"
   ]
  },
  {
   "cell_type": "code",
   "execution_count": null,
   "id": "64f8ad39-506c-460b-900a-d9dbc4d99414",
   "metadata": {},
   "outputs": [],
   "source": [
    "for i in range (0,40):\n",
    "    url = f\"https://scholar.google.com/scholar?start={0}&q=Self-healing+materials+in+construction&hl=en&as_sdt=0,5\"\n",
    "    response = requests.get(url)\n",
    "    response = response.content\n",
    "    soup = BeautifulSoup(response, 'html.parser')\n",
    "    ol = soup.fine('ol')"
   ]
  }
 ],
 "metadata": {
  "kernelspec": {
   "display_name": "Python 3 (ipykernel)",
   "language": "python",
   "name": "python3"
  },
  "language_info": {
   "codemirror_mode": {
    "name": "ipython",
    "version": 3
   },
   "file_extension": ".py",
   "mimetype": "text/x-python",
   "name": "python",
   "nbconvert_exporter": "python",
   "pygments_lexer": "ipython3",
   "version": "3.11.4"
  }
 },
 "nbformat": 4,
 "nbformat_minor": 5
}
