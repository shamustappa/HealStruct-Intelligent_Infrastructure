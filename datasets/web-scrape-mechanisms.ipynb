{
 "cells": [
  {
   "cell_type": "code",
   "execution_count": 1,
   "id": "4d262e99-f0e4-4078-b14d-927694110533",
   "metadata": {
    "tags": []
   },
   "outputs": [],
   "source": [
    "import requests\n",
    "from bs4 import BeautifulSoup\n",
    "from Bio import Entrez\n",
    "import time\n",
    "import pandas as pd\n",
    "import numpy as np"
   ]
  },
  {
   "cell_type": "code",
   "execution_count": 2,
   "id": "0080d5b2-19b0-41a3-b5cd-4a1f62a98e71",
   "metadata": {
    "tags": []
   },
   "outputs": [],
   "source": [
    "# Initialize an empty list to store paper details\n",
    "papers = []"
   ]
  },
  {
   "cell_type": "code",
   "execution_count": 3,
   "id": "362f4633-bce5-46a2-9882-7d6963ea8646",
   "metadata": {
    "tags": []
   },
   "outputs": [],
   "source": [
    "def search(query):\n",
    "    Entrez.email = 'shamustappa@gmail.com'\n",
    "    handle = Entrez.esearch(db='pubmed',\n",
    "    sort='relevance',\n",
    "    retmax='250000',\n",
    "    retmode='xml',\n",
    "    term=query)\n",
    "    results = Entrez.read(handle)\n",
    "    return results"
   ]
  },
  {
   "cell_type": "code",
   "execution_count": 4,
   "id": "e006509c-d337-45a7-955c-15b218347abd",
   "metadata": {
    "tags": []
   },
   "outputs": [],
   "source": [
    "studies = search('mechanism of self healing materials in construction')\n",
    "studiesIdList = studies['IdList']"
   ]
  },
  {
   "cell_type": "code",
   "execution_count": 5,
   "id": "ab9a8b50-4da6-494d-ad01-81207eb992a0",
   "metadata": {
    "tags": []
   },
   "outputs": [],
   "source": [
    "def fetch_details(id_list):\n",
    "    ids = ','.join(id_list)\n",
    "    Entrez.email = 'shamustappa@gmail.com'\n",
    "    handle = Entrez.efetch(db='pubmed',\n",
    "    retmode='xml',\n",
    "    id=ids)\n",
    "    results = Entrez.read(handle)\n",
    "    return results"
   ]
  },
  {
   "cell_type": "code",
   "execution_count": 6,
   "id": "b100fe0b-e656-456c-8a9b-c08a909ff650",
   "metadata": {
    "tags": []
   },
   "outputs": [],
   "source": [
    "# Initialize lists to store paper details\n",
    "title_list = []\n",
    "abstract_list = []\n",
    "journal_list = []\n",
    "language_list = []\n",
    "pubdate_year_list = []\n",
    "pubdate_month_list = []\n",
    "\n",
    "# Assume fetch_details is a function that takes a list of study IDs and returns detailed data\n",
    "# studies = fetch_details(studiesIdList)\n",
    "\n",
    "chunk_size = 10000  # Define the chunk size\n",
    "\n",
    "# Loop through the list of study IDs in chunks\n",
    "for chunk_i in range(0, len(studiesIdList), chunk_size):\n",
    "    chunk = studiesIdList[chunk_i:chunk_i + chunk_size]\n",
    "    papers = fetch_details(chunk)\n",
    "    \n",
    "    for i, paper in enumerate(papers['PubmedArticle']):\n",
    "        \n",
    "        # Extract title\n",
    "        title_list.append(paper['MedlineCitation']['Article']['ArticleTitle'])\n",
    "        \n",
    "        # Extract abstract, if available\n",
    "        try:\n",
    "            abstract_list.append(paper['MedlineCitation']['Article']['Abstract']['AbstractText'][0])\n",
    "        except:\n",
    "            abstract_list.append('No Abstract')\n",
    "        \n",
    "        # Extract journal name\n",
    "        journal_list.append(paper['MedlineCitation']['Article']['Journal']['Title'])\n",
    "        \n",
    "        # Extract language\n",
    "        language_list.append(paper['MedlineCitation']['Article']['Language'][0])\n",
    "        \n",
    "        # Extract publication year, if available\n",
    "        try:\n",
    "            pubdate_year_list.append(paper['MedlineCitation']['Article']['Journal']['JournalIssue']['PubDate']['Year'])\n",
    "        except:\n",
    "            pubdate_year_list.append('No Data')\n",
    "        \n",
    "        # Extract publication month, if available\n",
    "        try:\n",
    "            pubdate_month_list.append(paper['MedlineCitation']['Article']['Journal']['JournalIssue']['PubDate']['Month'])\n",
    "        except:\n",
    "            pubdate_month_list.append('No Data')\n",
    "\n",
    "# Create a Pandas DataFrame to store all the information\n",
    "df = pd.DataFrame(list(zip(\n",
    "    title_list, abstract_list, journal_list, language_list, pubdate_year_list, pubdate_month_list\n",
    ")),\n",
    "columns=[\n",
    "    'Title', 'Abstract', 'Journal', 'Language', 'Year', 'Month'\n",
    "])\n",
    "\n",
    "# Save the DataFrame to a CSV file\n",
    "df.to_csv('mechanisms_pubmed.csv', index=False)"
   ]
  },
  {
   "cell_type": "code",
   "execution_count": null,
   "id": "a35c73db-84ee-4139-84a5-68ab8478cf8b",
   "metadata": {},
   "outputs": [],
   "source": []
  }
 ],
 "metadata": {
  "kernelspec": {
   "display_name": "Python 3 (ipykernel)",
   "language": "python",
   "name": "python3"
  },
  "language_info": {
   "codemirror_mode": {
    "name": "ipython",
    "version": 3
   },
   "file_extension": ".py",
   "mimetype": "text/x-python",
   "name": "python",
   "nbconvert_exporter": "python",
   "pygments_lexer": "ipython3",
   "version": "3.11.5"
  }
 },
 "nbformat": 4,
 "nbformat_minor": 5
}
